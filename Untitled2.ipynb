{
 "cells": [
  {
   "cell_type": "code",
   "execution_count": 1,
   "id": "7469760f",
   "metadata": {},
   "outputs": [],
   "source": [
    "import pandas as pd"
   ]
  },
  {
   "cell_type": "code",
   "execution_count": 4,
   "id": "37ec9410",
   "metadata": {},
   "outputs": [
    {
     "name": "stdout",
     "output_type": "stream",
     "text": [
      "        User_ID Product_ID City_Category Stay_In_Current_City_Years  \\\n",
      "0       1000001  P00069042             A                          2   \n",
      "1       1000001  P00248942             A                          2   \n",
      "2       1000001  P00087842             A                          2   \n",
      "3       1000001  P00085442             A                          2   \n",
      "4       1000002  P00285442             C                         4+   \n",
      "...         ...        ...           ...                        ...   \n",
      "550063  1006033  P00372445             B                          1   \n",
      "550064  1006035  P00375436             C                          3   \n",
      "550065  1006036  P00375436             B                         4+   \n",
      "550066  1006038  P00375436             C                          2   \n",
      "550067  1006039  P00371644             B                         4+   \n",
      "\n",
      "        Marital_Status  Product_Category_1  Product_Category_2  \\\n",
      "0                    0                   3                 NaN   \n",
      "1                    0                   1                 6.0   \n",
      "2                    0                  12                 NaN   \n",
      "3                    0                  12                14.0   \n",
      "4                    0                   8                 NaN   \n",
      "...                ...                 ...                 ...   \n",
      "550063               1                  20                 NaN   \n",
      "550064               0                  20                 NaN   \n",
      "550065               1                  20                 NaN   \n",
      "550066               0                  20                 NaN   \n",
      "550067               1                  20                 NaN   \n",
      "\n",
      "        Product_Category_3  Purchase  \n",
      "0                      NaN      8370  \n",
      "1                     14.0     15200  \n",
      "2                      NaN      1422  \n",
      "3                      NaN      1057  \n",
      "4                      NaN      7969  \n",
      "...                    ...       ...  \n",
      "550063                 NaN       368  \n",
      "550064                 NaN       371  \n",
      "550065                 NaN       137  \n",
      "550066                 NaN       365  \n",
      "550067                 NaN       490  \n",
      "\n",
      "[550068 rows x 9 columns]\n"
     ]
    }
   ],
   "source": [
    "df = pd.read_csv(r'C:\\Users\\snsaka\\Documents\\Project_2_Retail_dataset- V2 04-07-2022\\User_product_purchase_details_p2.csv')\n",
    "print(df)"
   ]
  },
  {
   "cell_type": "code",
   "execution_count": 5,
   "id": "ffa490e0",
   "metadata": {},
   "outputs": [
    {
     "name": "stdout",
     "output_type": "stream",
     "text": [
      "         Marital_Status  Product_Category_1  Product_Category_2  \\\n",
      "User_ID                                                           \n",
      "1000001               0                 213               132.0   \n",
      "1000002               0                 354               539.0   \n",
      "1000003               0                  93               117.0   \n",
      "1000004              14                  33               102.0   \n",
      "1000005             106                 659               642.0   \n",
      "...                 ...                 ...                 ...   \n",
      "1006036             514                3200              3403.0   \n",
      "1006037               0                 938               894.0   \n",
      "1006038               0                  83                93.0   \n",
      "1006039              74                 439               580.0   \n",
      "1006040               0                1141              1110.0   \n",
      "\n",
      "         Product_Category_3  Purchase  \n",
      "User_ID                                \n",
      "1000001               148.0    334093  \n",
      "1000002               359.0    810472  \n",
      "1000003               148.0    341635  \n",
      "1000004               127.0    206468  \n",
      "1000005               207.0    821001  \n",
      "...                     ...       ...  \n",
      "1006036              1509.0   4116058  \n",
      "1006037               456.0   1119538  \n",
      "1006038                51.0     90034  \n",
      "1006039               324.0    590319  \n",
      "1006040               455.0   1653299  \n",
      "\n",
      "[5891 rows x 5 columns]\n"
     ]
    }
   ],
   "source": [
    "df1 = df.groupby(['User_ID']).sum()\n",
    "print(df1)"
   ]
  },
  {
   "cell_type": "code",
   "execution_count": null,
   "id": "8b773e7d",
   "metadata": {},
   "outputs": [],
   "source": [
    "import matplotlib.pyplot as plt\n",
    "Product_Sales1 = df1['Product_category_1'].sum()\n",
    "Product_Sales2 = df1['Product_category_2'].sum()\n",
    "Product_Sales3 = df1['Product_category_3'].sum()\n",
    "Product_Sales=['Product_Sales1']\n"
   ]
  }
 ],
 "metadata": {
  "kernelspec": {
   "display_name": "Python 3 (ipykernel)",
   "language": "python",
   "name": "python3"
  },
  "language_info": {
   "codemirror_mode": {
    "name": "ipython",
    "version": 3
   },
   "file_extension": ".py",
   "mimetype": "text/x-python",
   "name": "python",
   "nbconvert_exporter": "python",
   "pygments_lexer": "ipython3",
   "version": "3.9.12"
  }
 },
 "nbformat": 4,
 "nbformat_minor": 5
}
